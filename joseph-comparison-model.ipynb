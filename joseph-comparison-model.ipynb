{
 "cells": [
  {
   "cell_type": "code",
   "execution_count": 1,
   "id": "55296e3f",
   "metadata": {},
   "outputs": [],
   "source": [
    "import networkx as nx\n",
    "import numpy as np\n",
    "import pandas as pd\n",
    "import random\n",
    "import matplotlib.pyplot as plt"
   ]
  },
  {
   "cell_type": "code",
   "execution_count": 2,
   "id": "d0370230",
   "metadata": {},
   "outputs": [],
   "source": [
    "# I had to slightly edit the source code from networkx\n",
    "def powerlaw_cluster_graph(n, m, p, initial_graph, seed=random.seed(2)):\n",
    "    \"\"\"Holme and Kim algorithm for growing graphs with powerlaw\n",
    "    degree distribution and approximate average clustering.\n",
    "\n",
    "    Parameters\n",
    "    ----------\n",
    "    n : int\n",
    "        the number of nodes\n",
    "    m : int\n",
    "        the number of random edges to add for each new node\n",
    "    p : float,\n",
    "        Probability of adding a triangle after adding a random edge\n",
    "    seed : integer, random_state, or None (default)\n",
    "        Indicator of random number generation state.\n",
    "        See :ref:`Randomness<randomness>`.\n",
    "\n",
    "    Notes\n",
    "    -----\n",
    "    The average clustering has a hard time getting above a certain\n",
    "    cutoff that depends on `m`.  This cutoff is often quite low.  The\n",
    "    transitivity (fraction of triangles to possible triangles) seems to\n",
    "    decrease with network size.\n",
    "\n",
    "    It is essentially the Barabási–Albert (BA) growth model with an\n",
    "    extra step that each random edge is followed by a chance of\n",
    "    making an edge to one of its neighbors too (and thus a triangle).\n",
    "\n",
    "    This algorithm improves on BA in the sense that it enables a\n",
    "    higher average clustering to be attained if desired.\n",
    "\n",
    "    It seems possible to have a disconnected graph with this algorithm\n",
    "    since the initial `m` nodes may not be all linked to a new node\n",
    "    on the first iteration like the BA model.\n",
    "\n",
    "    Raises\n",
    "    ------\n",
    "    NetworkXError\n",
    "        If `m` does not satisfy ``1 <= m <= n`` or `p` does not\n",
    "        satisfy ``0 <= p <= 1``.\n",
    "\n",
    "    References\n",
    "    ----------\n",
    "    .. [1] P. Holme and B. J. Kim,\n",
    "       \"Growing scale-free networks with tunable clustering\",\n",
    "       Phys. Rev. E, 65, 026107, 2002.\n",
    "    \"\"\"\n",
    "\n",
    "    if m < 1 or n < m:\n",
    "        raise nx.NetworkXError(f\"NetworkXError must have m>1 and m<n, m={m},n={n}\")\n",
    "\n",
    "    if p > 1 or p < 0:\n",
    "        raise nx.NetworkXError(f\"NetworkXError p must be in [0,1], p={p}\")\n",
    "\n",
    "    # initializing with a given graph instead of random nodes\n",
    "    G = initial_graph  # add m initial nodes (m0 in barabasi-speak)\n",
    "    repeated_nodes = list(G.nodes())  # list of existing nodes to sample from\n",
    "    # with nodes repeated once for each adjacent edge\n",
    "    source = m  # next node is m\n",
    "    while source < n:  # Now add the other n-1 nodes\n",
    "        possible_targets = _random_subset(repeated_nodes, m, seed)\n",
    "        # do one preferential attachment for new node\n",
    "        target = possible_targets.pop()\n",
    "        G.add_edge(source, target)\n",
    "        repeated_nodes.append(target)  # add one node to list for each new link\n",
    "        count = 1\n",
    "        while count < m:  # add m-1 more new links\n",
    "            if random.random() < p:  # clustering step: add triangle\n",
    "                neighborhood = [\n",
    "                    nbr\n",
    "                    for nbr in G.neighbors(target)\n",
    "                    if not G.has_edge(source, nbr) and not nbr == source\n",
    "                ]\n",
    "                if neighborhood:  # if there is a neighbor without a link\n",
    "                    nbr = random.choice(neighborhood)\n",
    "                    G.add_edge(source, nbr)  # add triangle\n",
    "                    repeated_nodes.append(nbr)\n",
    "                    count = count + 1\n",
    "                    continue  # go to top of while loop\n",
    "            # else do preferential attachment step if above fails\n",
    "            target = possible_targets.pop()\n",
    "            G.add_edge(source, target)\n",
    "            repeated_nodes.append(target)\n",
    "            count = count + 1\n",
    "\n",
    "        repeated_nodes.extend([source] * m)  # add source node to list m times\n",
    "        source += 1\n",
    "    return G"
   ]
  },
  {
   "cell_type": "code",
   "execution_count": 3,
   "id": "20792019",
   "metadata": {},
   "outputs": [],
   "source": [
    "# networkx function\n",
    "def _random_subset(seq, m, rng):\n",
    "    \"\"\"Return m unique elements from seq.\n",
    "\n",
    "    This differs from random.sample which can return repeated\n",
    "    elements if seq holds repeated elements.\n",
    "\n",
    "    Note: rng is a random.Random or numpy.random.RandomState instance.\n",
    "    \"\"\"\n",
    "    targets = set()\n",
    "    while len(targets) < m:\n",
    "        x = random.choice(seq)\n",
    "        targets.add(x)\n",
    "    return targets"
   ]
  },
  {
   "cell_type": "code",
   "execution_count": 4,
   "id": "9bf7b3a8",
   "metadata": {},
   "outputs": [],
   "source": [
    "# loading in the actual graphs from each year\n",
    "G2004 = nx.read_gexf(\"gexf_files/G2004_fixed_genre.gexf\")\n",
    "G2006 = nx.read_gexf(\"gexf_files/G2006_fixed.gexf\")\n",
    "G2008 = nx.read_gexf(\"gexf_files/G2008_fixed.gexf\")\n",
    "G2010 = nx.read_gexf(\"gexf_files/G2010_fixed.gexf\")\n",
    "G2012 = nx.read_gexf(\"gexf_files/G2012_fixed.gexf\")\n",
    "G2014 = nx.read_gexf(\"gexf_files/G2014_fixed.gexf\")\n",
    "G2016 = nx.read_gexf(\"gexf_files/G2016_fixed.gexf\")\n",
    "G2018 = nx.read_gexf(\"gexf_files/G2018_fixed.gexf\")\n",
    "G2020 = nx.read_gexf(\"gexf_files/G2020_fixed.gexf\")\n",
    "G2022 = nx.read_gexf(\"gexf_files/G2022_fixed.gexf\")\n",
    "\n",
    "graphs = [G2004, G2006, G2008, G2010, G2012, G2014, G2016, G2018, G2020, G2022]\n",
    "years = [2004, 2006, 2008, 2010, 2012, 2014, 2016, 2018, 2020, 2022]"
   ]
  },
  {
   "cell_type": "code",
   "execution_count": 5,
   "id": "a55de61f",
   "metadata": {},
   "outputs": [
    {
     "name": "stdout",
     "output_type": "stream",
     "text": [
      "Graph with 347 nodes and 882 edges\n",
      "Graph with 442 nodes and 1441 edges\n",
      "Graph with 557 nodes and 2101 edges\n",
      "Graph with 714 nodes and 3191 edges\n",
      "Graph with 904 nodes and 4706 edges\n",
      "Graph with 1109 nodes and 6816 edges\n",
      "Graph with 1360 nodes and 10637 edges\n",
      "Graph with 1576 nodes and 14152 edges\n",
      "Graph with 1831 nodes and 17688 edges\n",
      "Graph with 1983 nodes and 19402 edges\n",
      "[ 347.  442.  557.  714.  904. 1109. 1360. 1576. 1831. 1983.]\n",
      "[  882.  1441.  2101.  3191.  4706.  6816. 10637. 14152. 17688. 19402.]\n"
     ]
    }
   ],
   "source": [
    "# printing out the nodes and edges for each year to compare to the HK-model\n",
    "num_nodes = np.zeros(len(graphs))\n",
    "num_edges = np.zeros(len(graphs))\n",
    "avg_ccs = np.zeros(len(graphs))\n",
    "for idx, graph in enumerate(graphs):\n",
    "    print(graph)\n",
    "    splt = str(graph).split(' ')\n",
    "    num_nodes[idx] = int(splt[2])\n",
    "    num_edges[idx] = int(splt[5])\n",
    "    avg_ccs[idx] = '{0:.3g}'.format(nx.average_clustering(graph))\n",
    "print(num_nodes)\n",
    "print(num_edges)"
   ]
  },
  {
   "cell_type": "code",
   "execution_count": 6,
   "id": "450f8b33",
   "metadata": {},
   "outputs": [
    {
     "name": "stdout",
     "output_type": "stream",
     "text": [
      "Graph with 347 nodes and 882 edges\n",
      "average clustering coefficient: 0.414\n",
      "\n",
      "Graph with 719 nodes and 1254 edges\n",
      "average clustering coefficient: 0.148\n",
      "\n",
      "Graph with 760 nodes and 1664 edges\n",
      "average clustering coefficient: 0.13\n",
      "\n",
      "Graph with 908 nodes and 2217 edges\n",
      "average clustering coefficient: 0.0983\n",
      "\n",
      "Graph with 1069 nodes and 3656 edges\n",
      "average clustering coefficient: 0.316\n",
      "\n",
      "Graph with 1242 nodes and 5438 edges\n",
      "average clustering coefficient: 0.302\n",
      "\n",
      "Graph with 1458 nodes and 8758 edges\n",
      "average clustering coefficient: 0.268\n",
      "\n",
      "Graph with 1631 nodes and 12586 edges\n",
      "average clustering coefficient: 0.236\n",
      "\n",
      "Graph with 1851 nodes and 17042 edges\n",
      "average clustering coefficient: 0.23\n",
      "\n",
      "Graph with 1959 nodes and 21833 edges\n",
      "average clustering coefficient: 0.189\n",
      "\n"
     ]
    }
   ],
   "source": [
    "initial_G = G2004.copy()\n",
    "hk_graphs = [G2004]\n",
    "for i in range(len(graphs)-1):    \n",
    "    \n",
    "    # using a constant of 0.4 to adjust towards the correct number of edges\n",
    "    m = int(0.4*num_edges[i+1] / num_nodes[i+1])\n",
    "    \n",
    "    # using a constant of 0.2 to adjust towards the correct number of nodes\n",
    "    n = num_nodes[i+1]-int(0.2*len(list(initial_G.nodes)))\n",
    "    \n",
    "    # we want triadic closures to form as frequently as possi\n",
    "    p = 0.99\n",
    "    hk_G = powerlaw_cluster_graph(n, m, p, initial_G, seed=random.seed(2))\n",
    "    hk_graphs.append(hk_G)\n",
    "    initial_G = hk_G.copy()\n",
    "\n",
    "hk_avg_ccs = np.zeros(len(graphs))\n",
    "for idx, graph in enumerate(hk_graphs):\n",
    "    print(graph)\n",
    "    hk_avg_cc = '{0:.3g}'.format(nx.average_clustering(graph))\n",
    "    hk_avg_ccs[idx] = float(hk_avg_cc)\n",
    "    print(f\"average clustering coefficient: {hk_avg_cc}\\n\")"
   ]
  },
  {
   "cell_type": "code",
   "execution_count": 8,
   "id": "931a3f4e",
   "metadata": {},
   "outputs": [
    {
     "name": "stdout",
     "output_type": "stream",
     "text": [
      "[0.414  0.148  0.13   0.0983 0.316  0.302  0.268  0.236  0.23   0.189 ]\n",
      "[0.414 0.466 0.473 0.467 0.478 0.504 0.505 0.503 0.514 0.515]\n"
     ]
    },
    {
     "data": {
      "image/png": "[encoded data removed]",
      "text/plain": [
       "<Figure size 432x288 with 1 Axes>"
      ]
     },
     "metadata": {
      "needs_background": "light"
     },
     "output_type": "display_data"
    }
   ],
   "source": [
    "plt.plot(years, hk_avg_ccs)\n",
    "plt.plot(years, avg_ccs)\n",
    "print(hk_avg_ccs)\n",
    "print(avg_ccs)\n",
    "plt.xticks(years)\n",
    "plt.title(\"average clustering coefficients across years\")\n",
    "plt.show()"
   ]
  },
  {
   "cell_type": "code",
   "execution_count": null,
   "id": "81ecad7d",
   "metadata": {},
   "outputs": [],
   "source": []
  }
 ],
 "metadata": {
  "kernelspec": {
   "display_name": "Python 3",
   "language": "python",
   "name": "python3"
  },
  "language_info": {
   "codemirror_mode": {
    "name": "ipython",
    "version": 3
   },
   "file_extension": ".py",
   "mimetype": "text/x-python",
   "name": "python",
   "nbconvert_exporter": "python",
   "pygments_lexer": "ipython3",
   "version": "3.8.8"
  }
 },
 "nbformat": 4,
 "nbformat_minor": 5
}
