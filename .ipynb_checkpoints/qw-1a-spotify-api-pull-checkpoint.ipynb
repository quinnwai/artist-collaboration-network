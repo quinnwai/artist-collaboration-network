{
 "cells": [
  {
   "cell_type": "code",
   "execution_count": 6,
   "id": "b1e18686",
   "metadata": {},
   "outputs": [],
   "source": [
    "from bs4 import BeautifulSoup\n",
    "import requests as req\n",
    "\n",
    "import spotipy\n",
    "from spotipy.oauth2 import SpotifyClientCredentials, SpotifyOAuth\n",
    "import sys\n",
    "\n",
    "import numpy as np\n",
    "import pandas as pd\n",
    "\n",
    "from tqdm.notebook import tqdm\n",
    "import time\n",
    "\n",
    "scope = \"user-library-read\"\n",
    "sp = spotipy.Spotify(auth_manager=SpotifyOAuth(scope=scope))\n",
    "spotify = spotipy.Spotify(auth_manager=SpotifyClientCredentials())"
   ]
  },
  {
   "cell_type": "markdown",
   "id": "bfa2dc98",
   "metadata": {},
   "source": [
    "# Get Names of Chicago Rap Artists ([Every Noise](https://everynoise.com/))"
   ]
  },
  {
   "cell_type": "code",
   "execution_count": 2,
   "id": "7535a3c0",
   "metadata": {},
   "outputs": [],
   "source": [
    "def generate_beautifulSoup(url):\n",
    "    Web = req.get(url)\n",
    "    S = BeautifulSoup(Web.text, 'lxml')\n",
    "    return(S)\n",
    "\n",
    "def top_n_artists(S, n=10):\n",
    "    \n",
    "    # finding the div where all of the names are stored\n",
    "    canvas = S.find('div', class_=\"canvas\")\n",
    "    \n",
    "    artists = []\n",
    "    for div in canvas:\n",
    "\n",
    "        \n",
    "        # the elements in canvas alternate between divs with information and blank tags, \n",
    "        # we only want to look at the ones with information\n",
    "        if (len(div) > 1):\n",
    "\n",
    "            # finding the font size\n",
    "            # font size measures artist importance\n",
    "            style = div.get('style')\n",
    "            style_attr = style.split('; ')\n",
    "            importance = '';\n",
    "            for pair in style_attr:\n",
    "                attr, val = pair.split(': ')\n",
    "                if (attr == 'font-size'):\n",
    "                    importance = val\n",
    "                    \n",
    "            # finding the artist name \n",
    "            onclick = div.get('onclick')\n",
    "            artist_string = onclick.split(', ')[1]\n",
    "            artist = artist_string.split('\"')[1]\n",
    "            \n",
    "            # appending info\n",
    "            artists.append((artist, importance))\n",
    "\n",
    "\n",
    "\n",
    "    # sorting artist by \"importance\"\n",
    "    artists = sorted(artists, key=lambda x: x[1], reverse=True)[0:n]\n",
    "    top_names = [x[0] for x in artists]\n",
    "\n",
    "    \n",
    "    \n",
    "    return(top_names)"
   ]
  },
  {
   "cell_type": "code",
   "execution_count": 3,
   "id": "1152a5c6",
   "metadata": {},
   "outputs": [
    {
     "name": "stdout",
     "output_type": "stream",
     "text": [
      "['Kanye West', 'Juice WRLD', 'Polo G', 'Lil Durk', 'King Von', 'Chief Keef', 'Jeremih', 'Chance the Rapper', 'G Herbo', 'Lupe Fiasco']\n"
     ]
    }
   ],
   "source": [
    "# running both functions with chicagorap\n",
    "S = generate_beautifulSoup('https://everynoise.com/engenremap-chicagorap.html')\n",
    "artist_names = top_n_artists(S, n=10)\n",
    "print(artist_names)"
   ]
  },
  {
   "cell_type": "markdown",
   "id": "e11e851b",
   "metadata": {},
   "source": [
    "# Get All Tracks from Artists' Albums and their Features' Albums"
   ]
  },
  {
   "cell_type": "code",
   "execution_count": 25,
   "id": "13e51f9b",
   "metadata": {},
   "outputs": [],
   "source": [
    "def get_artists_from_name(artist_names, show_output=False):\n",
    "    '''\n",
    "    get artist information from a list of artist names\n",
    "    '''\n",
    "    \n",
    "    artists = []\n",
    "\n",
    "    print(\"Name -> Artist:\")\n",
    "    for name in tqdm(artist_names):\n",
    "        results = spotify.search(q='artist:' + name, type='artist')\n",
    "        items = results['artists']['items']\n",
    "        if len(items) > 0:\n",
    "            artist = items[0]\n",
    "            artists.append(artist)\n",
    "            if show_output: print((artist['name'], artist['uri'], artist['genres']))\n",
    "            \n",
    "    return artists\n",
    "\n",
    "def get_albums_from_artist(artists, show_output=False):\n",
    "    '''\n",
    "    get all albums from artist without duplicates\n",
    "    '''\n",
    "\n",
    "    albums = []\n",
    "    albums_set = set()\n",
    "    \n",
    "    print(\"Artist -> Album:\")\n",
    "    for artist in tqdm(artists):\n",
    "\n",
    "        results = spotify.artist_albums(artist['uri'], album_type='album')\n",
    "\n",
    "        # only add new albums\n",
    "        for album in results['items']:\n",
    "            all_artists = [album_artist['name'] for album_artist in album['artists']]\n",
    "            album_and_artist = f\"{album['name']} {' '.join(all_artists)}\" # assume static artist order\n",
    "\n",
    "            if album_and_artist not in albums_set: albums.append(album)\n",
    "            albums_set.add(album_and_artist)\n",
    "\n",
    "        # continue loading albums if there are more\n",
    "        while results['next']:\n",
    "            results = spotify.next(results)\n",
    "\n",
    "            for album in results['items']:\n",
    "                all_artists = [album_artist['name'] for album_artist in album['artists']]\n",
    "                album_and_artist = f\"{album['name']} {' '.join(all_artists)}\"\n",
    "\n",
    "                if album_and_artist not in albums_set: albums.append(album)\n",
    "                albums_set.add(album_and_artist)\n",
    "    \n",
    "    return albums\n",
    "\n",
    "def get_artists_and_tracks_from_albums(albums):\n",
    "    '''\n",
    "    get all songs from a list albums\n",
    "    '''\n",
    "    feature_names = []\n",
    "    tracks = []\n",
    "    track_set = set()\n",
    "    \n",
    "    print(\"Album -> Artists, Tracks:\")\n",
    "    for album in tqdm(albums):\n",
    "        results = spotify.album_tracks(album['uri'])\n",
    "        tracks.extend(results['items'])\n",
    "\n",
    "        # add features to list\n",
    "        for info in results['items']:\n",
    "            feature_names.extend([artist['name'] for artist in info['artists']])\n",
    "\n",
    "        # continue loading tracks if there are more\n",
    "        while results['next']:\n",
    "            results = spotify.next(results)\n",
    "            tracks.extend(results['items'])\n",
    "\n",
    "            for info in results['items']:\n",
    "                features.extend([artist['name'] for artist in info['artists']])\n",
    "\n",
    "    feature_names = list(set(features))\n",
    "    return feature_names, tracks"
   ]
  },
  {
   "cell_type": "code",
   "execution_count": 39,
   "id": "a0895d9d",
   "metadata": {
    "scrolled": true
   },
   "outputs": [
    {
     "name": "stdout",
     "output_type": "stream",
     "text": [
      "Name -> Artist:\n"
     ]
    },
    {
     "data": {
      "application/vnd.jupyter.widget-view+json": {
       "model_id": "635057851adf4012be19a419a22ab2cf",
       "version_major": 2,
       "version_minor": 0
      },
      "text/plain": [
       "  0%|          | 0/10 [00:00<?, ?it/s]"
      ]
     },
     "metadata": {},
     "output_type": "display_data"
    },
    {
     "name": "stdout",
     "output_type": "stream",
     "text": [
      "Artist -> Album:\n"
     ]
    },
    {
     "data": {
      "application/vnd.jupyter.widget-view+json": {
       "model_id": "4305a155793543f7974f57af692f152f",
       "version_major": 2,
       "version_minor": 0
      },
      "text/plain": [
       "  0%|          | 0/10 [00:00<?, ?it/s]"
      ]
     },
     "metadata": {},
     "output_type": "display_data"
    },
    {
     "name": "stdout",
     "output_type": "stream",
     "text": [
      "Album -> Artists, Tracks:\n"
     ]
    },
    {
     "data": {
      "application/vnd.jupyter.widget-view+json": {
       "model_id": "027881d58f414c4891b7d9ce45132e6f",
       "version_major": 2,
       "version_minor": 0
      },
      "text/plain": [
       "  0%|          | 0/148 [00:00<?, ?it/s]"
      ]
     },
     "metadata": {},
     "output_type": "display_data"
    }
   ],
   "source": [
    "# go from artist names -> artist -> albums -> featured artists/tracks\n",
    "artists = get_artists_from_name(artist_names)\n",
    "albums = get_albums_from_artist(artists)\n",
    "feature_names, tracks = get_artists_and_tracks_from_albums(albums)"
   ]
  },
  {
   "cell_type": "code",
   "execution_count": 40,
   "id": "65e7c049",
   "metadata": {
    "scrolled": true
   },
   "outputs": [
    {
     "name": "stdout",
     "output_type": "stream",
     "text": [
      "Number of Albums: 148\n",
      "Sample: ['Donda (Deluxe)', 'The College Dropout', 'The Voice', 'Remember My Name', 'The GloFiles (Pt. 3)', 'The GloFiles (Pt. 2)', 'Big Gucci Sosa', 'Sorry 4 The Weight (Deluxe Edition)', 'Jeremih [Exclusive Edition (Explicit)]', 'Welcome to Fazoland']\n",
      "\n",
      "Number of Featured Artists: 316\n",
      "Sample: ['Jeezy', 'Snoop Dogg', 'A$AP Rocky', 'Ant Clemons', '2 Chainz', 'Tray Savage', 'Brent Faiyaz', 'Booka600', 'Ari Lennox', 'Derez De’Shon']\n",
      "\n",
      "Number of tracks: 2310\n",
      "Sample: ['Donda Chant', 'Lil Jimmy Skit', 'No Interviews', 'Check', 'NASCAR', 'Almoney', \"Don't Lose no Load\", 'Ten Toes Down', 'Jumpin', 'Love 2 Stunt']\n"
     ]
    }
   ],
   "source": [
    "# small summary\n",
    "print(f\"Number of Albums: {len(albums)}\")\n",
    "print(f\"Sample: {[albums[i*len(albums)//10]['name'] for i in range(10)]}\")\n",
    "    \n",
    "print(f'\\nNumber of Featured Artists: {len(feature_names)}')\n",
    "print(f\"Sample: {[feature_names[i*len(feature_names)//10] for i in range(10)]}\")\n",
    "\n",
    "print(f\"\\nNumber of tracks: {len(tracks)}\")\n",
    "print(f\"Sample: {[tracks[i*len(tracks)//10]['name'] for i in range(10)]}\")"
   ]
  },
  {
   "cell_type": "code",
   "execution_count": 41,
   "id": "e73a94b1",
   "metadata": {},
   "outputs": [
    {
     "name": "stdout",
     "output_type": "stream",
     "text": [
      "Name -> Artist:\n"
     ]
    },
    {
     "data": {
      "application/vnd.jupyter.widget-view+json": {
       "model_id": "397dc4863ade450fa246cd391d55bc51",
       "version_major": 2,
       "version_minor": 0
      },
      "text/plain": [
       "  0%|          | 0/316 [00:00<?, ?it/s]"
      ]
     },
     "metadata": {},
     "output_type": "display_data"
    },
    {
     "name": "stdout",
     "output_type": "stream",
     "text": [
      "Artist -> Album:\n"
     ]
    },
    {
     "data": {
      "application/vnd.jupyter.widget-view+json": {
       "model_id": "1d041d61968149a1af5a706c30723ada",
       "version_major": 2,
       "version_minor": 0
      },
      "text/plain": [
       "  0%|          | 0/315 [00:00<?, ?it/s]"
      ]
     },
     "metadata": {},
     "output_type": "display_data"
    },
    {
     "name": "stdout",
     "output_type": "stream",
     "text": [
      "Album -> Artists, Tracks:\n"
     ]
    },
    {
     "data": {
      "application/vnd.jupyter.widget-view+json": {
       "model_id": "405c7b01d5ba42ce98a97d3cabf67aae",
       "version_major": 2,
       "version_minor": 0
      },
      "text/plain": [
       "  0%|          | 0/2962 [00:00<?, ?it/s]"
      ]
     },
     "metadata": {},
     "output_type": "display_data"
    }
   ],
   "source": [
    "# second round of pulling information\n",
    "more_artists = get_artists_from_name(feature_names)\n",
    "more_albums = get_albums_from_artist(more_artists)\n",
    "more_feature_names, more_tracks = get_artists_and_tracks_from_albums(more_albums)"
   ]
  },
  {
   "cell_type": "code",
   "execution_count": 43,
   "id": "ff665d8f",
   "metadata": {},
   "outputs": [
    {
     "name": "stdout",
     "output_type": "stream",
     "text": [
      "Number of Albums: 2962\n",
      "Sample: ['The Recession 2', 'The Leek, Vol. 1', 'Live in Europe (Live in Europe, 1987)', \"I Don't Feel Rehabilitated\", 'flowers, the album', 'Justice (The Complete Edition)', 'Thursday (Original)', 'Fuck The World', 'Wu Victory', 'Blue Magic']\n",
      "\n",
      "Number of Featured Artists: 316\n",
      "Sample: ['Jeezy', 'Snoop Dogg', 'A$AP Rocky', 'Ant Clemons', '2 Chainz', 'Tray Savage', 'Brent Faiyaz', 'Booka600', 'Ari Lennox', 'Derez De’Shon']\n",
      "\n",
      "Number of tracks: 46383\n",
      "Sample: ['Oh Lord (feat. Tamika Mallory)', \"I Don't Like\", 'Eddie You Should Know Better', 'Baptized In Fire', 'Guess What', \"Grammy's\", 'everything you need', 'Come Thru', 'The Scroll', \"Get 'em Part 2\"]\n"
     ]
    }
   ],
   "source": [
    "# small summary for finalized list\n",
    "print(f\"Number of Albums: {len(more_albums)}\")\n",
    "print(f\"Sample: {[more_albums[i*len(more_albums)//10]['name'] for i in range(10)]}\")\n",
    "    \n",
    "print(f'\\nNumber of Featured Artists: {len(more_feature_names)}')\n",
    "print(f\"Sample: {[more_feature_names[i*len(more_feature_names)//10] for i in range(10)]}\")\n",
    "\n",
    "print(f\"\\nNumber of tracks: {len(more_tracks)}\")\n",
    "print(f\"Sample: {[more_tracks[i*len(more_tracks)//10]['name'] for i in range(10)]}\")"
   ]
  },
  {
   "cell_type": "code",
   "execution_count": null,
   "id": "272f53b8",
   "metadata": {},
   "outputs": [],
   "source": []
  }
 ],
 "metadata": {
  "kernelspec": {
   "display_name": "Python 3 (ipykernel)",
   "language": "python",
   "name": "python3"
  },
  "language_info": {
   "codemirror_mode": {
    "name": "ipython",
    "version": 3
   },
   "file_extension": ".py",
   "mimetype": "text/x-python",
   "name": "python",
   "nbconvert_exporter": "python",
   "pygments_lexer": "ipython3",
   "version": "3.7.7"
  }
 },
 "nbformat": 4,
 "nbformat_minor": 5
}
