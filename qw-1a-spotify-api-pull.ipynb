{
 "cells": [
  {
   "cell_type": "code",
   "execution_count": 20,
   "id": "b1e18686",
   "metadata": {},
   "outputs": [],
   "source": [
    "from bs4 import BeautifulSoup\n",
    "import requests as req\n",
    "\n",
    "import spotipy\n",
    "from spotipy.oauth2 import SpotifyClientCredentials, SpotifyOAuth\n",
    "import sys\n",
    "\n",
    "import numpy as np\n",
    "import pandas as pd\n",
    "import json\n",
    "\n",
    "from tqdm.notebook import tqdm\n",
    "import time\n",
    "\n",
    "scope = \"user-library-read\"\n",
    "sp = spotipy.Spotify(auth_manager=SpotifyOAuth(scope=scope))\n",
    "spotify = spotipy.Spotify(auth_manager=SpotifyClientCredentials())"
   ]
  },
  {
   "cell_type": "markdown",
   "id": "bfa2dc98",
   "metadata": {},
   "source": [
    "# Get Names of Chicago Rap Artists ([Every Noise](https://everynoise.com/))"
   ]
  },
  {
   "cell_type": "code",
   "execution_count": 21,
   "id": "7535a3c0",
   "metadata": {},
   "outputs": [],
   "source": [
    "def generate_beautifulSoup(url):\n",
    "    Web = req.get(url)\n",
    "    S = BeautifulSoup(Web.text, 'lxml')\n",
    "    return(S)\n",
    "\n",
    "def top_n_artists(S, n=10):\n",
    "    \n",
    "    # finding the div where all of the names are stored\n",
    "    canvas = S.find('div', class_=\"canvas\")\n",
    "    \n",
    "    artists = []\n",
    "    for div in canvas:\n",
    "\n",
    "        \n",
    "        # the elements in canvas alternate between divs with information and blank tags, \n",
    "        # we only want to look at the ones with information\n",
    "        if (len(div) > 1):\n",
    "\n",
    "            # finding the font size\n",
    "            # font size measures artist importance\n",
    "            style = div.get('style')\n",
    "            style_attr = style.split('; ')\n",
    "            importance = '';\n",
    "            for pair in style_attr:\n",
    "                attr, val = pair.split(': ')\n",
    "                if (attr == 'font-size'):\n",
    "                    importance = val\n",
    "                    \n",
    "            # finding the artist name \n",
    "            onclick = div.get('onclick')\n",
    "            artist_string = onclick.split(', ')[1]\n",
    "            artist = artist_string.split('\"')[1]\n",
    "            \n",
    "            # appending info\n",
    "            artists.append((artist, importance))\n",
    "\n",
    "\n",
    "\n",
    "    # sorting artist by \"importance\"\n",
    "    artists = sorted(artists, key=lambda x: x[1], reverse=True)[0:n]\n",
    "    top_names = [x[0] for x in artists]\n",
    "\n",
    "    \n",
    "    \n",
    "    return(top_names)"
   ]
  },
  {
   "cell_type": "code",
   "execution_count": 22,
   "id": "1152a5c6",
   "metadata": {},
   "outputs": [
    {
     "name": "stdout",
     "output_type": "stream",
     "text": [
      "['Kanye West', 'Juice WRLD', 'Polo G', 'Lil Durk', 'King Von', 'Chief Keef', 'Jeremih', 'Chance the Rapper', 'G Herbo', 'Lupe Fiasco']\n"
     ]
    }
   ],
   "source": [
    "# running both functions with chicagorap\n",
    "S = generate_beautifulSoup('https://everynoise.com/engenremap-chicagorap.html')\n",
    "artist_names = top_n_artists(S, n=10)\n",
    "print(artist_names)"
   ]
  },
  {
   "cell_type": "markdown",
   "id": "e11e851b",
   "metadata": {},
   "source": [
    "# Get All Tracks from Artists' Albums and their Features' Albums"
   ]
  },
  {
   "cell_type": "code",
   "execution_count": 23,
   "id": "13e51f9b",
   "metadata": {},
   "outputs": [],
   "source": [
    "def get_artists_from_name(artist_names, show_output=False):\n",
    "    '''\n",
    "    get artist information from a list of artist names\n",
    "    '''\n",
    "    \n",
    "    artists = []\n",
    "\n",
    "    print(\"Name -> Artist:\")\n",
    "    for name in tqdm(artist_names):\n",
    "        results = spotify.search(q='artist:' + name, type='artist')\n",
    "        items = results['artists']['items']\n",
    "        if len(items) > 0:\n",
    "            artist = items[0]\n",
    "            artists.append(artist)\n",
    "            if show_output: print((artist['name'], artist['uri'], artist['genres']))\n",
    "            \n",
    "    return artists\n",
    "\n",
    "def get_albums_from_artist(artists, show_output=False):\n",
    "    '''\n",
    "    get all albums from artist without duplicates\n",
    "    '''\n",
    "\n",
    "    albums = []\n",
    "    albums_set = set()\n",
    "    \n",
    "    print(\"Artist -> Album:\")\n",
    "    for artist in tqdm(artists):\n",
    "\n",
    "        results = spotify.artist_albums(artist['uri'], album_type='album')\n",
    "\n",
    "        # only add new albums\n",
    "        for album in results['items']:\n",
    "            all_artists = [album_artist['name'] for album_artist in album['artists']]\n",
    "            album_and_artist = f\"{album['name']} {' '.join(all_artists)}\" # assume static artist order\n",
    "\n",
    "            if album_and_artist not in albums_set: albums.append(album)\n",
    "            albums_set.add(album_and_artist)\n",
    "\n",
    "        # continue loading albums if there are more\n",
    "        while results['next']:\n",
    "            results = spotify.next(results)\n",
    "\n",
    "            for album in results['items']:\n",
    "                all_artists = [album_artist['name'] for album_artist in album['artists']]\n",
    "                album_and_artist = f\"{album['name']} {' '.join(all_artists)}\"\n",
    "\n",
    "                if album_and_artist not in albums_set: albums.append(album)\n",
    "                albums_set.add(album_and_artist)\n",
    "    \n",
    "    return albums\n",
    "\n",
    "def get_artists_and_tracks_from_albums(albums):\n",
    "    '''\n",
    "    get all songs from a list albums\n",
    "    '''\n",
    "    feature_names = []\n",
    "    tracks = []\n",
    "    track_set = set()\n",
    "    \n",
    "    print(\"Album -> Artists, Tracks:\")\n",
    "    for album in tqdm(albums):\n",
    "        # get results\n",
    "        results = spotify.album_tracks(album['uri'])\n",
    "        \n",
    "        # add album release date to each track\n",
    "        album_info = spotify.album(album['uri'])\n",
    "        for track in results['items']:\n",
    "            track['release_date'] = album_info['release_date']\n",
    "            \n",
    "        # add all tracks to tracks list\n",
    "        tracks.extend(results['items'])\n",
    "\n",
    "        # add artist features to features list\n",
    "        for info in results['items']:\n",
    "            feature_names.extend([artist['name'] for artist in info['artists']])\n",
    "\n",
    "        # continue loading tracks if there are more\n",
    "        while results['next']:\n",
    "            results = spotify.next(results)\n",
    "            tracks.extend(results['items'])\n",
    "\n",
    "            for info in results['items']:\n",
    "                feature_names.extend([artist['name'] for artist in info['artists']])\n",
    "\n",
    "    feature_names = list(set(feature_names))\n",
    "    return feature_names, tracks"
   ]
  },
  {
   "cell_type": "code",
   "execution_count": 24,
   "id": "a0895d9d",
   "metadata": {
    "scrolled": true
   },
   "outputs": [
    {
     "name": "stdout",
     "output_type": "stream",
     "text": [
      "Name -> Artist:\n"
     ]
    },
    {
     "data": {
      "application/vnd.jupyter.widget-view+json": {
       "model_id": "304e03213a474efe879f992166ded4ce",
       "version_major": 2,
       "version_minor": 0
      },
      "text/plain": [
       "  0%|          | 0/10 [00:00<?, ?it/s]"
      ]
     },
     "metadata": {},
     "output_type": "display_data"
    },
    {
     "name": "stdout",
     "output_type": "stream",
     "text": [
      "Artist -> Album:\n"
     ]
    },
    {
     "data": {
      "application/vnd.jupyter.widget-view+json": {
       "model_id": "078f7115d40b40659105aa371931f26a",
       "version_major": 2,
       "version_minor": 0
      },
      "text/plain": [
       "  0%|          | 0/10 [00:00<?, ?it/s]"
      ]
     },
     "metadata": {},
     "output_type": "display_data"
    },
    {
     "name": "stdout",
     "output_type": "stream",
     "text": [
      "Album -> Artists, Tracks:\n"
     ]
    },
    {
     "data": {
      "application/vnd.jupyter.widget-view+json": {
       "model_id": "21458109caf840909e3407501192f1fc",
       "version_major": 2,
       "version_minor": 0
      },
      "text/plain": [
       "  0%|          | 0/148 [00:00<?, ?it/s]"
      ]
     },
     "metadata": {},
     "output_type": "display_data"
    }
   ],
   "source": [
    "# go from artist names -> artist -> albums -> featured artists/tracks\n",
    "artists = get_artists_from_name(artist_names)\n",
    "albums = get_albums_from_artist(artists)\n",
    "feature_names, tracks = get_artists_and_tracks_from_albums(albums)"
   ]
  },
  {
   "cell_type": "code",
   "execution_count": 25,
   "id": "65e7c049",
   "metadata": {
    "scrolled": true
   },
   "outputs": [
    {
     "name": "stdout",
     "output_type": "stream",
     "text": [
      "Number of Albums: 148\n",
      "Sample: ['Donda (Deluxe)', 'The College Dropout', 'The Voice', 'Remember My Name', 'The GloFiles (Pt. 3)', 'The GloFiles (Pt. 2)', 'Big Gucci Sosa', 'Sorry 4 The Weight (Deluxe Edition)', 'Jeremih', 'Welcome to Fazoland']\n",
      "\n",
      "Number of Featured Artists: 304\n",
      "Sample: ['Kirk Franklin', 'DIXSON', 'Rick Ross', 'Bon Iver', 'Trippie Redd', 'J. Cole', 'KIDS SEE GHOSTS', 'Francis and the Lights', 'Hypno Carlito', 'Lil 40']\n",
      "\n",
      "Number of tracks: 2310\n",
      "Sample: ['Donda Chant', 'Lil Jimmy Skit', 'No Interviews', 'Check', 'NASCAR', 'Almoney', \"Don't Lose no Load\", 'Ten Toes Down', 'Jumpin', 'Love 2 Stunt']\n"
     ]
    }
   ],
   "source": [
    "# small summary\n",
    "print(f\"Number of Albums: {len(albums)}\")\n",
    "print(f\"Sample: {[albums[i*len(albums)//10]['name'] for i in range(10)]}\")\n",
    "    \n",
    "print(f'\\nNumber of Featured Artists: {len(feature_names)}')\n",
    "print(f\"Sample: {[feature_names[i*len(feature_names)//10] for i in range(10)]}\")\n",
    "\n",
    "print(f\"\\nNumber of tracks: {len(tracks)}\")\n",
    "print(f\"Sample: {[tracks[i*len(tracks)//10]['name'] for i in range(10)]}\")"
   ]
  },
  {
   "cell_type": "code",
   "execution_count": 26,
   "id": "e73a94b1",
   "metadata": {},
   "outputs": [
    {
     "name": "stdout",
     "output_type": "stream",
     "text": [
      "Name -> Artist:\n"
     ]
    },
    {
     "data": {
      "application/vnd.jupyter.widget-view+json": {
       "model_id": "4cc0ba6d242a4d18bb5e74f87d102005",
       "version_major": 2,
       "version_minor": 0
      },
      "text/plain": [
       "  0%|          | 0/304 [00:00<?, ?it/s]"
      ]
     },
     "metadata": {},
     "output_type": "display_data"
    },
    {
     "name": "stdout",
     "output_type": "stream",
     "text": [
      "Artist -> Album:\n"
     ]
    },
    {
     "data": {
      "application/vnd.jupyter.widget-view+json": {
       "model_id": "0905f964bfd44a9198d5342d01ee7be1",
       "version_major": 2,
       "version_minor": 0
      },
      "text/plain": [
       "  0%|          | 0/304 [00:00<?, ?it/s]"
      ]
     },
     "metadata": {},
     "output_type": "display_data"
    },
    {
     "name": "stdout",
     "output_type": "stream",
     "text": [
      "Album -> Artists, Tracks:\n"
     ]
    },
    {
     "data": {
      "application/vnd.jupyter.widget-view+json": {
       "model_id": "26b67b6870b84425afe4e13e63cb9e6f",
       "version_major": 2,
       "version_minor": 0
      },
      "text/plain": [
       "  0%|          | 0/2861 [00:00<?, ?it/s]"
      ]
     },
     "metadata": {},
     "output_type": "display_data"
    }
   ],
   "source": [
    "# second round of pulling information\n",
    "more_artists = get_artists_from_name(feature_names)\n",
    "more_albums = get_albums_from_artist(more_artists)\n",
    "more_feature_names, more_tracks = get_artists_and_tracks_from_albums(more_albums)"
   ]
  },
  {
   "cell_type": "code",
   "execution_count": 27,
   "id": "ff665d8f",
   "metadata": {},
   "outputs": [
    {
     "name": "stdout",
     "output_type": "stream",
     "text": [
      "Number of Albums: 2861\n",
      "Sample: ['LONG LIVE LOVE', 'Slime Season 4', 'Life I Live', 'Big Gucci Sosa', 'Eastside Piru', '2014 Forest Hills Drive', 'Me Against the World', 'Math Class 2', 'The Randy Newman Songbook, Vol. 3', 'A Legendary Christmas']\n",
      "\n",
      "Number of Featured Artists: 4645\n",
      "Sample: ['Frank White', 'Ryan Adams', 'T-Moe', 'Game', 'Young Quis', 'Cootie', 'M.T.P.', 'T@', 'Camouflage', 'CHOC']\n",
      "\n",
      "Number of tracks: 45040\n",
      "Sample: ['F.A.V.O.R', 'My Boys (feat. Ralo, Trouble and Lil Durk)', 'Ticket (feat. Coach Rick)', 'According to My Watch', 'Scared of the Dark (feat. Riff Raff)', 'Joy to the World', 'Phenomonon', 'Brotha - The Inferno Mix', 'We Are The Hustlaz', 'New Hunnids (feat. Yung Bans & Gunna)']\n"
     ]
    }
   ],
   "source": [
    "# small summary for finalized list\n",
    "print(f\"Number of Albums: {len(more_albums)}\")\n",
    "print(f\"Sample: {[more_albums[i*len(more_albums)//10]['name'] for i in range(10)]}\")\n",
    "    \n",
    "print(f'\\nNumber of Featured Artists: {len(more_feature_names)}')\n",
    "print(f\"Sample: {[more_feature_names[i*len(more_feature_names)//10] for i in range(10)]}\")\n",
    "\n",
    "print(f\"\\nNumber of tracks: {len(more_tracks)}\")\n",
    "print(f\"Sample: {[more_tracks[i*len(more_tracks)//10]['name'] for i in range(10)]}\")"
   ]
  },
  {
   "cell_type": "code",
   "execution_count": 28,
   "id": "272f53b8",
   "metadata": {},
   "outputs": [
    {
     "name": "stdout",
     "output_type": "stream",
     "text": [
      "Name -> Artist:\n"
     ]
    },
    {
     "data": {
      "application/vnd.jupyter.widget-view+json": {
       "model_id": "fbfea17b9ff94e8cb217d0702216bd2e",
       "version_major": 2,
       "version_minor": 0
      },
      "text/plain": [
       "  0%|          | 0/4645 [00:00<?, ?it/s]"
      ]
     },
     "metadata": {},
     "output_type": "display_data"
    }
   ],
   "source": [
    "# final pull of artist info\n",
    "final_artists = get_artists_from_name(more_feature_names)"
   ]
  },
  {
   "cell_type": "code",
   "execution_count": 29,
   "id": "4b91dcb4",
   "metadata": {},
   "outputs": [
    {
     "data": {
      "application/vnd.jupyter.widget-view+json": {
       "model_id": "ae89581194a546af92319bf3f55c39b0",
       "version_major": 2,
       "version_minor": 0
      },
      "text/plain": [
       "0it [00:00, ?it/s]"
      ]
     },
     "metadata": {},
     "output_type": "display_data"
    }
   ],
   "source": [
    "# save each artist as json\n",
    "for i, artist in tqdm(enumerate(final_artists)):\n",
    "    with open(f\"artists/artist{i}.json\", \"w\") as outfile:\n",
    "        json.dump(artist, outfile)    "
   ]
  },
  {
   "cell_type": "code",
   "execution_count": 30,
   "id": "d2c43b4a",
   "metadata": {},
   "outputs": [
    {
     "data": {
      "application/vnd.jupyter.widget-view+json": {
       "model_id": "412cb30edc584d1d925e584f7fd35d14",
       "version_major": 2,
       "version_minor": 0
      },
      "text/plain": [
       "0it [00:00, ?it/s]"
      ]
     },
     "metadata": {},
     "output_type": "display_data"
    }
   ],
   "source": [
    "# save each track as json\n",
    "for i, track in tqdm(enumerate(more_tracks)):\n",
    "    with open(f\"tracks/track{i}.json\", \"w\") as outfile:\n",
    "        json.dump(track, outfile)"
   ]
  },
  {
   "cell_type": "code",
   "execution_count": null,
   "id": "afb731f4",
   "metadata": {},
   "outputs": [],
   "source": []
  }
 ],
 "metadata": {
  "kernelspec": {
   "display_name": "Python 3 (ipykernel)",
   "language": "python",
   "name": "python3"
  },
  "language_info": {
   "codemirror_mode": {
    "name": "ipython",
    "version": 3
   },
   "file_extension": ".py",
   "mimetype": "text/x-python",
   "name": "python",
   "nbconvert_exporter": "python",
   "pygments_lexer": "ipython3",
   "version": "3.7.7"
  }
 },
 "nbformat": 4,
 "nbformat_minor": 5
}
