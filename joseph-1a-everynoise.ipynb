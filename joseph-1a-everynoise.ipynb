{
 "cells": [
  {
   "cell_type": "code",
   "execution_count": 1,
   "id": "71504109",
   "metadata": {},
   "outputs": [],
   "source": [
    "from bs4 import BeautifulSoup\n",
    "import requests as req"
   ]
  },
  {
   "cell_type": "code",
   "execution_count": 2,
   "id": "b60d3b8f",
   "metadata": {},
   "outputs": [],
   "source": [
    "# general function to generate a beautifulsoup object from a url\n",
    "def generate_beautifulSoup(url):\n",
    "    Web = req.get(url)\n",
    "    S = BeautifulSoup(Web.text, 'lxml')\n",
    "    return(S)"
   ]
  },
  {
   "cell_type": "code",
   "execution_count": 3,
   "id": "10f28c4f",
   "metadata": {},
   "outputs": [],
   "source": [
    "# finding the names of the top n artists\n",
    "def top_n_artists(S, n=10):\n",
    "    \n",
    "    # finding the div where all of the names are stored\n",
    "    canvas = S.find('div', class_=\"canvas\")\n",
    "    \n",
    "    artists = []\n",
    "    for div in canvas:\n",
    "\n",
    "        \n",
    "        # the elements in canvas alternate between divs with information and blank tags, \n",
    "        # we only want to look at the ones with information\n",
    "        if (len(div) > 1):\n",
    "\n",
    "            # finding the font size\n",
    "            # font size measures artist importance\n",
    "            style = div.get('style')\n",
    "            style_attr = style.split('; ')\n",
    "            importance = '';\n",
    "            for pair in style_attr:\n",
    "                attr, val = pair.split(': ')\n",
    "                if (attr == 'font-size'):\n",
    "                    importance = val\n",
    "                    \n",
    "            # finding the artist name \n",
    "            onclick = div.get('onclick')\n",
    "            artist_string = onclick.split(', ')[1]\n",
    "            artist = artist_string.split('\"')[1]\n",
    "            \n",
    "            # appending info\n",
    "            artists.append((artist, importance))\n",
    "\n",
    "\n",
    "\n",
    "    # sorting artist by \"importance\"\n",
    "    artists = sorted(artists, key=lambda x: x[1], reverse=True)[0:n]\n",
    "    top_names = [x[0] for x in artists]\n",
    "\n",
    "    \n",
    "    \n",
    "    return(top_names)"
   ]
  },
  {
   "cell_type": "code",
   "execution_count": 4,
   "id": "93d20f3f",
   "metadata": {},
   "outputs": [
    {
     "name": "stdout",
     "output_type": "stream",
     "text": [
      "['Kanye West', 'Juice WRLD', 'Polo G', 'Lil Durk', 'King Von', 'Chief Keef', 'Jeremih', 'G Herbo', 'Chance the Rapper', 'Lupe Fiasco']\n"
     ]
    }
   ],
   "source": [
    "# running both functions with chicagorap\n",
    "S = generate_beautifulSoup('https://everynoise.com/engenremap-chicagorap.html')\n",
    "top_artists = top_n_artists(S, n=10)\n",
    "print(top_artists)"
   ]
  },
  {
   "cell_type": "code",
   "execution_count": null,
   "id": "d4fabafa",
   "metadata": {},
   "outputs": [],
   "source": []
  }
 ],
 "metadata": {
  "kernelspec": {
   "display_name": "Python 3",
   "language": "python",
   "name": "python3"
  },
  "language_info": {
   "codemirror_mode": {
    "name": "ipython",
    "version": 3
   },
   "file_extension": ".py",
   "mimetype": "text/x-python",
   "name": "python",
   "nbconvert_exporter": "python",
   "pygments_lexer": "ipython3",
   "version": "3.8.8"
  }
 },
 "nbformat": 4,
 "nbformat_minor": 5
}
